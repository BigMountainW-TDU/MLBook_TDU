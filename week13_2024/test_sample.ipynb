{
 "cells": [
  {
   "cell_type": "code",
   "execution_count": 18,
   "id": "ae8a9bd4-bbb8-4365-9612-fed29d2c827d",
   "metadata": {},
   "outputs": [],
   "source": [
    "import pandas as pd\n",
    "import numpy as np\n",
    "import pickle"
   ]
  },
  {
   "cell_type": "code",
   "execution_count": 19,
   "id": "a66bdb50-60b6-4086-83f4-3ec7969c92bb",
   "metadata": {},
   "outputs": [],
   "source": [
    "# pandas.DataFrame を用いてCSVファイルを読み込む（p.34 : 2.3.20)\n",
    "data = pd.read_csv('test.csv')\n",
    "\n",
    "# Y : ラベルデータを numpy.array 形式で取得する\n",
    "Y = data['label'].values\n",
    "\n",
    "# X : 画像データを numpy.array 形式で取得する．\n",
    "data = data.drop(['id','label'],axis=1)\n",
    "X = data.values"
   ]
  },
  {
   "cell_type": "code",
   "execution_count": 20,
   "id": "3f5696c7-324e-4d06-9b32-91c3a99599ad",
   "metadata": {},
   "outputs": [],
   "source": [
    "pcaModel = pickle.load(open('pca_mdl.pkl','rb'))\n",
    "clfModel = pickle.load(open('clf_mdl.pkl','rb'))"
   ]
  },
  {
   "cell_type": "code",
   "execution_count": 21,
   "id": "d4dc98ca-f1eb-41c4-8a4e-0a59f586273b",
   "metadata": {},
   "outputs": [],
   "source": [
    "Xpca = pcaModel.transform(X)\n",
    "predicted = clfModel.predict(Xpca)"
   ]
  },
  {
   "cell_type": "code",
   "execution_count": 24,
   "id": "ce95baa4-d6a2-4dda-b0fe-df0ef2c12aca",
   "metadata": {},
   "outputs": [],
   "source": [
    "output = pd.read_csv('submission.csv')\n",
    "output['label'] = predicted"
   ]
  },
  {
   "cell_type": "code",
   "execution_count": 23,
   "id": "a280b0dd-f9e0-477e-975b-507de0a25a49",
   "metadata": {},
   "outputs": [],
   "source": [
    "output.to_csv('submission.csv',columns=['id','label'], index=False)"
   ]
  },
  {
   "cell_type": "code",
   "execution_count": null,
   "id": "73a77a24-cc20-418e-a782-c94fb9836d7f",
   "metadata": {},
   "outputs": [],
   "source": []
  }
 ],
 "metadata": {
  "kernelspec": {
   "display_name": "Python 3 (ipykernel)",
   "language": "python",
   "name": "python3"
  },
  "language_info": {
   "codemirror_mode": {
    "name": "ipython",
    "version": 3
   },
   "file_extension": ".py",
   "mimetype": "text/x-python",
   "name": "python",
   "nbconvert_exporter": "python",
   "pygments_lexer": "ipython3",
   "version": "3.11.7"
  }
 },
 "nbformat": 4,
 "nbformat_minor": 5
}
