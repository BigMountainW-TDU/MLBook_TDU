{
 "cells": [
  {
   "cell_type": "markdown",
   "id": "0658c503",
   "metadata": {},
   "source": [
    "# 機械学習2024 Week13 課題\n",
    "\n",
    "TechFUL Pro 画像認識課題（初級）  \n",
    "じゃんけん画像を２分類しよう  \n",
    "モデル評価用プログラム"
   ]
  },
  {
   "cell_type": "markdown",
   "id": "55052647",
   "metadata": {},
   "source": [
    "【4】テストデータのcsvファイル(test.csv)を読み込み、【3】で作ったモデルを使ってラベルを予測し、提出用ファイル(submission.csv)に書き込むプログラムを作成しましょう。test.csv は与えられませんが、test_sample.csv と submission_sample.csv が与えられるので、これらを使ってデバッグしてください。"
   ]
  },
  {
   "cell_type": "code",
   "execution_count": null,
   "id": "ae8a9bd4-bbb8-4365-9612-fed29d2c827d",
   "metadata": {},
   "outputs": [],
   "source": [
    "import pandas as pd\n",
    "import numpy as np\n",
    "import pickle"
   ]
  },
  {
   "cell_type": "code",
   "execution_count": null,
   "id": "a66bdb50-60b6-4086-83f4-3ec7969c92bb",
   "metadata": {},
   "outputs": [],
   "source": [
    "# pandas.DataFrame を用いてCSVファイルを読み込む（p.34 : 2.3.20)\n",
    "data = pd.read_csv('test.csv')\n",
    "\n",
    "# X : 画像データを numpy.array 形式で取得する．\n",
    "data = data.drop(['id','label'],axis=1)\n",
    "X = data.values"
   ]
  },
  {
   "cell_type": "code",
   "execution_count": null,
   "id": "3f5696c7-324e-4d06-9b32-91c3a99599ad",
   "metadata": {},
   "outputs": [],
   "source": [
    "# ファイル保存されている学習済みモデルを復元\n",
    "pcaModel = pickle.load(open('pca.pkl','rb'))\n",
    "clfModel = pickle.load(open('clf.pkl','rb'))"
   ]
  },
  {
   "cell_type": "code",
   "execution_count": null,
   "id": "d4dc98ca-f1eb-41c4-8a4e-0a59f586273b",
   "metadata": {},
   "outputs": [],
   "source": [
    "# 主成分分析で次元削減\n",
    "Xpca = pcaModel.transform(X)\n",
    "# 識別器で分類する\n",
    "predicted = clfModel.predict(Xpca)"
   ]
  },
  {
   "cell_type": "code",
   "execution_count": null,
   "id": "ce95baa4-d6a2-4dda-b0fe-df0ef2c12aca",
   "metadata": {},
   "outputs": [],
   "source": [
    "# 結果保存用ファイルのテンプレートを読み込む\n",
    "output = pd.read_csv('submission.csv')\n",
    "# label列に分類結果を格納\n",
    "output['label'] = predicted\n",
    "# 結果保存ファイルに上書きする\n",
    "output.to_csv('submission.csv',columns=['id','label'], index=False)"
   ]
  }
 ],
 "metadata": {
  "kernelspec": {
   "display_name": "Python 3 (ipykernel)",
   "language": "python",
   "name": "python3"
  },
  "language_info": {
   "codemirror_mode": {
    "name": "ipython",
    "version": 3
   },
   "file_extension": ".py",
   "mimetype": "text/x-python",
   "name": "python",
   "nbconvert_exporter": "python",
   "pygments_lexer": "ipython3",
   "version": "3.9.7"
  }
 },
 "nbformat": 4,
 "nbformat_minor": 5
}
