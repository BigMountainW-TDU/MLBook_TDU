{
 "cells": [
  {
   "cell_type": "markdown",
   "id": "1b0a5479",
   "metadata": {},
   "source": [
    "# 機械学習2024 Week13 課題\n",
    "\n",
    "TechFUL Pro 画像認識課題（初級）  \n",
    "じゃんけん画像を２分類しよう  \n",
    "モデル学習用プログラム"
   ]
  },
  {
   "cell_type": "code",
   "execution_count": null,
   "id": "317cb81e",
   "metadata": {},
   "outputs": [],
   "source": [
    "import pandas as pd\n",
    "import numpy as np"
   ]
  },
  {
   "cell_type": "markdown",
   "id": "ad5914c1",
   "metadata": {},
   "source": [
    "【1】訓練データの csv ファイルを読み込む部分のプログラムを作成し、正しく、データが読み込まれているかを確認しましょう。  \n",
    "【2】訓練データの画像データとラベルが対応するようにデータを構成しましょう。"
   ]
  },
  {
   "cell_type": "code",
   "execution_count": null,
   "id": "f0700c29",
   "metadata": {},
   "outputs": [],
   "source": [
    "# 確認用　表示関数\n",
    "\n",
    "import matplotlib.pylab as plt\n",
    "\n",
    "# オリジナルデータを画像で表示・確認\n",
    "def show_image( X ):\n",
    "    fig = plt.figure(figsize=(9.6,4.8))\n",
    "    for ind in range(8):\n",
    "        ax = fig.add_subplot(2,4,ind+1)\n",
    "        ax.imshow(np.reshape(X[ind],[32,32,3]),cmap=\"brg\")\n",
    "        ax.axis(\"off\")\n",
    "    plt.show()\n",
    "\n",
    "# データを2次元で表示・確認\n",
    "def plot2D(X, Y=None, xLabel=\"$z_1$\",yLabel=\"$z_2$\",fName=\"\"):\n",
    "    col = ['gray','white','black']\n",
    "    # 主成分得点のプロット\n",
    "    if isinstance(Y, np.ndarray):\n",
    "        for k in [0, 1]:\n",
    "            plt.plot(X[Y==k, 0],X[Y==k,1], col[k],\n",
    "                         marker = 'o', linestyle='None',\n",
    "                         markeredgecolor='black' )\n",
    "    else:\n",
    "        plt.plot(X[:,0],X[:,1],'k.',markersize=14)\n",
    "        \n",
    "    # 各軸の範囲とラベルの設定\n",
    "    plt.xlabel(xLabel,fontsize=14)\n",
    "    plt.ylabel(yLabel,fontsize=14)\n",
    "\n",
    "    # グラフの表示またはファイルへの保存\n",
    "    if len(fName):\n",
    "        plt.savefig(fName)\n",
    "    else:\n",
    "        plt.show()"
   ]
  },
  {
   "cell_type": "code",
   "execution_count": null,
   "id": "7143733f",
   "metadata": {},
   "outputs": [],
   "source": [
    "# pandas.DataFrame を用いてCSVファイルを読み込む（p.34 : 2.3.20)\n",
    "data = pd.read_csv('train.csv')\n",
    "\n",
    "# Y : ラベルデータを numpy.array 形式で取得する\n",
    "Y = data['label'].values\n",
    "\n",
    "# X : 画像データを numpy.array 形式で取得する．\n",
    "data = data.drop(['id','label'],axis=1)\n",
    "X = data.values\n",
    "\n",
    "# Y, X それぞれのサイズを確認\n",
    "print( f\"shape of Y : {Y.shape}\")\n",
    "print( f\"shape of X : {X.shape}\") # 1画像あたり 32 x 32 x 3 = 3072 次元のデータ点となる\n",
    "\n",
    "# 読み込んだデータを画像として確認する\n",
    "show_image (X[0:8]) # グー（ラベル 0）の例\n",
    "show_image (X[40:48]) # チョキ（ラベル 1）の例"
   ]
  },
  {
   "cell_type": "markdown",
   "id": "246cf324",
   "metadata": {},
   "source": [
    "【3】訓練データの画像データから、対応するラベルを予測できるようなモデルを構築し、後で読み込めるようにpickleなどで保存しましょう。"
   ]
  },
  {
   "cell_type": "code",
   "execution_count": null,
   "id": "b4e25bf2",
   "metadata": {},
   "outputs": [],
   "source": [
    "# 主成分分析（PCA）でデータの次元削減を行う．\n",
    "from sklearn.decomposition import PCA\n",
    "\n",
    "# データの次元削減（主成分分析により16次元に次元削減）\n",
    "pcaModel = PCA(n_components = 16)\n",
    "pcaModel.fit(X)\n",
    "Xpca = pcaModel.transform(X)\n",
    "\n",
    "# 次元削減したデータに対してロジスティック回帰モデルを学習\n",
    "from sklearn.linear_model import LogisticRegression\n",
    "clf = LogisticRegression()\n",
    "clf.fit(Xpca, Y)\n"
   ]
  },
  {
   "cell_type": "code",
   "execution_count": null,
   "id": "cc05d733-7a40-4312-b16d-2ebd85f4adbb",
   "metadata": {},
   "outputs": [],
   "source": [
    "# 学習データに対する性能を確認\n",
    "\n",
    "from sklearn import metrics\n",
    "\n",
    "predicted = clf.predict(Xpca)\n",
    "print(f\"{metrics.classification_report(Y, predicted)}\\n\")"
   ]
  },
  {
   "cell_type": "code",
   "execution_count": null,
   "id": "74965e18-5ae0-4b5e-b8f3-1cd2520d738c",
   "metadata": {},
   "outputs": [],
   "source": [
    "# モデルを pickle で保存する．\n",
    "\n",
    "import pickle\n",
    "pickle.dump(pcaModel, open('pca.pkl','wb'))\n",
    "pickle.dump(clf, open('clf.pkl','wb'))"
   ]
  },
  {
   "cell_type": "code",
   "execution_count": null,
   "id": "c2937246-4b9a-4e3e-ac97-736ab59e13ad",
   "metadata": {},
   "outputs": [],
   "source": []
  }
 ],
 "metadata": {
  "kernelspec": {
   "display_name": "Python 3 (ipykernel)",
   "language": "python",
   "name": "python3"
  },
  "language_info": {
   "codemirror_mode": {
    "name": "ipython",
    "version": 3
   },
   "file_extension": ".py",
   "mimetype": "text/x-python",
   "name": "python",
   "nbconvert_exporter": "python",
   "pygments_lexer": "ipython3",
   "version": "3.9.7"
  }
 },
 "nbformat": 4,
 "nbformat_minor": 5
}
