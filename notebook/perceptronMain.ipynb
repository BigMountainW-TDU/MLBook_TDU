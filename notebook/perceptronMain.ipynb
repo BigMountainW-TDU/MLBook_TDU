{
 "cells": [
  {
   "cell_type": "code",
   "execution_count": 2,
   "id": "e97c6e54",
   "metadata": {},
   "outputs": [],
   "source": [
    "import os\n",
    "import sys\n",
    "\n",
    "sys.path.append(os.path.join(os.getcwd(), '../codes'))"
   ]
  },
  {
   "cell_type": "code",
   "execution_count": 8,
   "id": "3037f206",
   "metadata": {},
   "outputs": [],
   "source": [
    "import numpy as np\n",
    "import data\n",
    "import perceptron"
   ]
  },
  {
   "cell_type": "code",
   "execution_count": 13,
   "id": "98580621",
   "metadata": {},
   "outputs": [],
   "source": [
    "#-------------------\n",
    "# 1. データの作成\n",
    "myData = data.classification(negLabel=-1,posLabel=1, path = '../data')\n",
    "myData.makeData(dataType=2)\n",
    "#-------------------\n"
   ]
  },
  {
   "cell_type": "code",
   "execution_count": 14,
   "id": "f07ad1b8",
   "metadata": {},
   "outputs": [],
   "source": [
    "#-------------------\n",
    "# 2. データを学習と評価用に分割\n",
    "dtrNum = int(len(myData.X)*0.9)  # 学習データ数\n",
    "# 学習データ（全体の90%）\n",
    "Xtr = myData.X[:dtrNum]\n",
    "Ytr = myData.Y[:dtrNum]\n",
    "\n",
    "# 評価データ（全体の10%）\n",
    "Xte = myData.X[dtrNum:]\n",
    "Yte = myData.Y[dtrNum:]\n",
    "#-------------------"
   ]
  },
  {
   "cell_type": "code",
   "execution_count": 15,
   "id": "051252c1",
   "metadata": {},
   "outputs": [],
   "source": [
    "#-------------------\n",
    "# 3. 入力データの標準化\n",
    "xMean = np.mean(Xtr,axis=0)\n",
    "xStd = np.std(Xtr,axis=0)\n",
    "Xtr = (Xtr-xMean)/xStd\n",
    "Xte = (Xte-xMean)/xStd\n",
    "#-------------------"
   ]
  },
  {
   "cell_type": "code",
   "execution_count": 16,
   "id": "63b5a7d6",
   "metadata": {},
   "outputs": [],
   "source": [
    "#--------------------\n",
    "# 4. perceptron モデルの学習\n",
    "myModel = perceptron.perceptron( Xtr, Ytr)"
   ]
  },
  {
   "cell_type": "code",
   "execution_count": 18,
   "id": "37ac08d9",
   "metadata": {},
   "outputs": [
    {
     "ename": "IndexError",
     "evalue": "boolean index did not match indexed array along dimension 1; dimension is 2 but corresponding boolean dimension is 1",
     "output_type": "error",
     "traceback": [
      "\u001b[0;31m---------------------------------------------------------------------------\u001b[0m",
      "\u001b[0;31mIndexError\u001b[0m                                Traceback (most recent call last)",
      "\u001b[0;32m/var/folders/l6/lfx5lph97rz96ntgrt1xgk680000gn/T/ipykernel_44345/383844224.py\u001b[0m in \u001b[0;36m<module>\u001b[0;34m\u001b[0m\n\u001b[0;32m----> 1\u001b[0;31m \u001b[0mmyModel\u001b[0m\u001b[0;34m.\u001b[0m\u001b[0mupdate\u001b[0m\u001b[0;34m(\u001b[0m\u001b[0;34m)\u001b[0m\u001b[0;34m\u001b[0m\u001b[0;34m\u001b[0m\u001b[0m\n\u001b[0m",
      "\u001b[0;32m~/python3/MLBook_TDU/notebook/../codes/perceptron.py\u001b[0m in \u001b[0;36mupdate\u001b[0;34m(self)\u001b[0m\n\u001b[1;32m     32\u001b[0m         \u001b[0mg\u001b[0m \u001b[0;34m=\u001b[0m \u001b[0mself\u001b[0m\u001b[0;34m.\u001b[0m\u001b[0mY\u001b[0m \u001b[0;34m*\u001b[0m \u001b[0mnp\u001b[0m\u001b[0;34m.\u001b[0m\u001b[0mmatmul\u001b[0m\u001b[0;34m(\u001b[0m\u001b[0mself\u001b[0m\u001b[0;34m.\u001b[0m\u001b[0mZ\u001b[0m\u001b[0;34m,\u001b[0m \u001b[0mself\u001b[0m\u001b[0;34m.\u001b[0m\u001b[0mV\u001b[0m\u001b[0;34m)\u001b[0m\u001b[0;34m\u001b[0m\u001b[0;34m\u001b[0m\u001b[0m\n\u001b[1;32m     33\u001b[0m \u001b[0;34m\u001b[0m\u001b[0m\n\u001b[0;32m---> 34\u001b[0;31m         \u001b[0;32mfor\u001b[0m \u001b[0mx\u001b[0m \u001b[0;32min\u001b[0m \u001b[0mself\u001b[0m\u001b[0;34m.\u001b[0m\u001b[0mX\u001b[0m\u001b[0;34m[\u001b[0m\u001b[0mg\u001b[0m \u001b[0;34m<=\u001b[0m \u001b[0;36m0\u001b[0m\u001b[0;34m]\u001b[0m\u001b[0;34m:\u001b[0m\u001b[0;34m\u001b[0m\u001b[0;34m\u001b[0m\u001b[0m\n\u001b[0m\u001b[1;32m     35\u001b[0m             \u001b[0mprint\u001b[0m\u001b[0;34m(\u001b[0m\u001b[0mx\u001b[0m\u001b[0;34m)\u001b[0m\u001b[0;34m\u001b[0m\u001b[0;34m\u001b[0m\u001b[0m\n\u001b[1;32m     36\u001b[0m \u001b[0;34m\u001b[0m\u001b[0m\n",
      "\u001b[0;31mIndexError\u001b[0m: boolean index did not match indexed array along dimension 1; dimension is 2 but corresponding boolean dimension is 1"
     ]
    }
   ],
   "source": [
    "myModel.update()"
   ]
  },
  {
   "cell_type": "code",
   "execution_count": null,
   "id": "494f7e0f",
   "metadata": {},
   "outputs": [],
   "source": []
  }
 ],
 "metadata": {
  "kernelspec": {
   "display_name": "Python 3 (ipykernel)",
   "language": "python",
   "name": "python3"
  },
  "language_info": {
   "codemirror_mode": {
    "name": "ipython",
    "version": 3
   },
   "file_extension": ".py",
   "mimetype": "text/x-python",
   "name": "python",
   "nbconvert_exporter": "python",
   "pygments_lexer": "ipython3",
   "version": "3.9.7"
  }
 },
 "nbformat": 4,
 "nbformat_minor": 5
}
