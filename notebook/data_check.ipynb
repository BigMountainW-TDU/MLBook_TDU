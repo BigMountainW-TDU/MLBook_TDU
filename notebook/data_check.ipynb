{
 "cells": [
  {
   "cell_type": "markdown",
   "id": "9e0854ee",
   "metadata": {},
   "source": [
    "## データ読み込みのチェック"
   ]
  },
  {
   "cell_type": "code",
   "execution_count": 3,
   "id": "b34051ed",
   "metadata": {},
   "outputs": [
    {
     "ename": "NameError",
     "evalue": "name '__file__' is not defined",
     "output_type": "error",
     "traceback": [
      "\u001b[0;31m---------------------------------------------------------------------------\u001b[0m",
      "\u001b[0;31mNameError\u001b[0m                                 Traceback (most recent call last)",
      "Cell \u001b[0;32mIn[3], line 4\u001b[0m\n\u001b[1;32m      1\u001b[0m \u001b[38;5;28;01mimport\u001b[39;00m \u001b[38;5;21;01mos\u001b[39;00m\n\u001b[1;32m      2\u001b[0m \u001b[38;5;28;01mimport\u001b[39;00m \u001b[38;5;21;01msys\u001b[39;00m\n\u001b[0;32m----> 4\u001b[0m sys\u001b[38;5;241m.\u001b[39mpath\u001b[38;5;241m.\u001b[39mappend(os\u001b[38;5;241m.\u001b[39mpath\u001b[38;5;241m.\u001b[39mjoin(os\u001b[38;5;241m.\u001b[39mpath\u001b[38;5;241m.\u001b[39mdirname(\u001b[38;5;18;43m__file__\u001b[39;49m), \u001b[38;5;124m'\u001b[39m\u001b[38;5;124m../codes\u001b[39m\u001b[38;5;124m'\u001b[39m))\n\u001b[1;32m      6\u001b[0m \u001b[38;5;28;01mimport\u001b[39;00m \u001b[38;5;21;01mdata\u001b[39;00m\n",
      "\u001b[0;31mNameError\u001b[0m: name '__file__' is not defined"
     ]
    }
   ],
   "source": [
    "import os\n",
    "import sys\n",
    "\n",
    "sys.path.append(os.path.join(os.getcwd(), '../codes'))\n",
    "\n",
    "import data"
   ]
  },
  {
   "cell_type": "code",
   "execution_count": null,
   "id": "4b13eea3",
   "metadata": {},
   "outputs": [],
   "source": [
    "# 教師なし学習用データ\n",
    "myData = data.unsupervised()\n",
    "myData.makeData(dataType=1)\n",
    "print(myData.labels)\n",
    "print((myData.X.shape))\n",
    "\n",
    "myData.makeData(dataType=2)\n",
    "print(myData.labels)\n",
    "print((myData.X.shape))"
   ]
  },
  {
   "cell_type": "code",
   "execution_count": null,
   "id": "d9a2f87b",
   "metadata": {},
   "outputs": [],
   "source": [
    "# 教師あり学習（分類）用データ\n",
    "myData = data.classification()\n",
    "myData.makeData(dataType=1) # 建物等級\n",
    "print((myData.X.shape))\n",
    "\n",
    "myData.makeData(dataType=2) # 建物等級\n",
    "print((myData.X.shape))\n",
    "\n",
    "myData.makeData(dataType=3) # トイデータ1\n",
    "print((myData.X.shape))\n",
    "\n",
    "myData.makeData(dataType=4) # トイデータ2\n",
    "print((myData.X.shape))\n",
    "\n",
    "myData.makeData(dataType=5) # トイデータ3\n",
    "print((myData.X.shape))\n",
    "\n",
    "myData.makeData(dataType=6) # トイデータ4\n",
    "print((myData.X.shape))\n",
    "\n",
    "myData.makeData(dataType=7) # MNIST\n",
    "print((myData.Xtr.shape))"
   ]
  },
  {
   "cell_type": "code",
   "execution_count": null,
   "id": "16e7e866",
   "metadata": {},
   "outputs": [],
   "source": [
    "# 決定木用データ\n",
    "myData = data.decisionTree()\n",
    "myData.makeData(dataType=1) # テニスをするか\n",
    "print((myData.Xtr.shape))\n",
    "\n",
    "myData.makeData(dataType=2) # 動物の種類\n",
    "print((myData.Xtr.shape))"
   ]
  },
  {
   "cell_type": "code",
   "execution_count": null,
   "id": "5e473fd9",
   "metadata": {},
   "outputs": [],
   "source": [
    "# 感情分類データ\n",
    "myData = data.sentimentLabelling()\n",
    "myData.makeData(dataType=1) # amazonのレビュー\n",
    "print(len(myData.X))\n",
    "\n",
    "myData.makeData(dataType=2) # yelpのレビュー\n",
    "print(len(myData.X))\n",
    "\n",
    "myData.makeData(dataType=3) # imdbのレビュー\n",
    "print(len(myData.X))"
   ]
  },
  {
   "cell_type": "code",
   "execution_count": null,
   "id": "b6af700c",
   "metadata": {},
   "outputs": [],
   "source": []
  }
 ],
 "metadata": {
  "kernelspec": {
   "display_name": "Python 3 (ipykernel)",
   "language": "python",
   "name": "python3"
  },
  "language_info": {
   "codemirror_mode": {
    "name": "ipython",
    "version": 3
   },
   "file_extension": ".py",
   "mimetype": "text/x-python",
   "name": "python",
   "nbconvert_exporter": "python",
   "pygments_lexer": "ipython3",
   "version": "3.9.7"
  }
 },
 "nbformat": 4,
 "nbformat_minor": 5
}
